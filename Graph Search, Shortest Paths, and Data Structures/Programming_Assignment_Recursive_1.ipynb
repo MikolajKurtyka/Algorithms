{
  "nbformat": 4,
  "nbformat_minor": 0,
  "metadata": {
    "colab": {
      "name": "Programming Assignment Recursive #1.ipynb",
      "provenance": [],
      "authorship_tag": "ABX9TyNvf0194TGDCqIoIzIrL0yY",
      "include_colab_link": true
    },
    "kernelspec": {
      "name": "python3",
      "display_name": "Python 3"
    },
    "language_info": {
      "name": "python"
    }
  },
  "cells": [
    {
      "cell_type": "markdown",
      "metadata": {
        "id": "view-in-github",
        "colab_type": "text"
      },
      "source": [
        "<a href=\"https://colab.research.google.com/github/MikolajMichaluk/Algorithms/blob/main/Programming_Assignment_Recursive_1.ipynb\" target=\"_parent\"><img src=\"https://colab.research.google.com/assets/colab-badge.svg\" alt=\"Open In Colab\"/></a>"
      ]
    },
    {
      "cell_type": "markdown",
      "source": [
        "The file contains the edges of a directed graph. Vertices are labeled as positive integers from 1 to 875714. Every row indicates an edge, the vertex label in first column is the tail and the vertex label in second column is the head (recall the graph is directed, and the edges are directed from the first column vertex to the second column vertex). So for example, the 11^{th}11 \n",
        "th\n",
        "  row looks liks : \"2 47646\". This just means that the vertex with label 2 has an outgoing edge to the vertex with label 47646\n",
        "\n",
        "Your task is to code up the algorithm from the video lectures for computing strongly connected components (SCCs), and to run this algorithm on the given graph.\n",
        "\n",
        "Output Format: You should output the sizes of the 5 largest SCCs in the given graph, in decreasing order of sizes, separated by commas (avoid any spaces). So if your algorithm computes the sizes of the five largest SCCs to be 500, 400, 300, 200 and 100, then your answer should be \"500,400,300,200,100\" (without the quotes). If your algorithm finds less than 5 SCCs, then write 0 for the remaining terms. Thus, if your algorithm computes only 3 SCCs whose sizes are 400, 300, and 100, then your answer should be \"400,300,100,0,0\" (without the quotes).  (Note also that your answer should not have any spaces in it.)"
      ],
      "metadata": {
        "id": "js_TEy4N-eF7"
      }
    },
    {
      "cell_type": "code",
      "source": [
        "from copy import deepcopy"
      ],
      "metadata": {
        "id": "uNdtGRJUHSMy"
      },
      "execution_count": null,
      "outputs": []
    },
    {
      "cell_type": "code",
      "source": [
        "class Graph:\n",
        "  def __init__(self):\n",
        "    self.graph = dict()\n",
        "\n",
        "  def upload_from_txt(self, path):\n",
        "    graph = dict()\n",
        "\n",
        "    with open(path) as txt_file:\n",
        "      for line in txt_file:\n",
        "        line = line.split()\n",
        "        if graph.get(line[0]):\n",
        "          graph[line[0]].append(int(line[1]))\n",
        "        else:\n",
        "          graph.update({line[0] : [int(line[1])]})\n",
        "\n",
        "    self.graph = graph\n",
        "\n",
        "  def rev(self):\n",
        "    graph_rev = Graph()\n",
        "    for vertex in self.graph:\n",
        "      for arc in self.graph[vertex]:\n",
        "        if graph_rev.graph.get(str(arc)):\n",
        "          graph_rev.graph[str(arc)].append(int(vertex))\n",
        "        else:\n",
        "          graph_rev.graph.update({str(arc) : [int(vertex)]})\n",
        "    return graph_rev\n",
        "\n",
        "  def graph(self):\n",
        "    return self.graph\n",
        "\n",
        "  def len(self):\n",
        "    return len(self.graph)\n",
        "\n",
        "  def return_vertex_degree(self, vertex):\n",
        "    return len(self.graph[vertex])\n",
        "\n",
        "  def return_vertex_arcs(self, vertex):\n",
        "    return self.graph[vertex]\n",
        "\n",
        "  def map(self, f, i):\n",
        "    return f[i-1]\n",
        "\n",
        "  def map_graph(self, f):\n",
        "    maped_graph = Graph()\n",
        "    for vertex in self.graph:\n",
        "      maped_vertex = str(self.map(f, int(vertex)))\n",
        "      for arc in self.graph[vertex]:\n",
        "        maped_arc = self.map(f, arc)\n",
        "        if maped_graph.graph.get(maped_vertex):\n",
        "          maped_graph.graph[maped_vertex].append(maped_arc)\n",
        "        else:\n",
        "          maped_graph.graph.update({ maped_vertex: [maped_arc]})\n",
        "\n",
        "    return maped_graph"
      ],
      "metadata": {
        "id": "5BdCYq8tBFBF"
      },
      "execution_count": null,
      "outputs": []
    },
    {
      "cell_type": "code",
      "source": [
        "class SCC_len_finder:\n",
        "  def __init__(self, graph):\n",
        "    self.graph = graph\n",
        "    self.graph_rev = self.graph.rev()\n",
        "\n",
        "    self.map = []\n",
        "    self.f = [0] * self.graph.len()\n",
        "    self.leader = []\n",
        "    self.nodes_explored = []\n",
        "\n",
        "    self.t = 0\n",
        "    self.s = None\n",
        "\n",
        "  def SCC(self):\n",
        "    self.DFS_loop(self.graph_rev)\n",
        "    self.map = deepcopy(self.f)\n",
        "    self.DFS_loop(self.graph.map_graph(self.f))\n",
        "\n",
        "\n",
        "  def DFS_loop(self, graph):\n",
        "    #print(f\"DPS LOOP graph {graph.graph}\")\n",
        "    self.nodes_explored = self.exploration_grid(graph)\n",
        "    self.leader = self.leader_set(graph)\n",
        "    #n = self.graph.len()\n",
        "    n = len(self.nodes_explored)\n",
        "    self.t = 0\n",
        "    self.s = None\n",
        "    for i in range(n, 0, -1):\n",
        "      if self.nodes_explored[i-1] == 0:\n",
        "        self.s = i\n",
        "        self.DFS(graph, i)\n",
        "        \n",
        "      for j in range(0, n):\n",
        "        if self.nodes_explored[j] == 1 and self.leader[j] == 0:\n",
        "          self.leader[j] = i\n",
        "\n",
        "  def DFS(self, graph, i):\n",
        "    self.nodes_explored[i-1] = 1\n",
        "    arcs = graph.return_vertex_arcs(str(i))\n",
        "    for j in  range(0, len(arcs)):\n",
        "      if self.nodes_explored[arcs[j] - 1] == 0:\n",
        "        self.DFS(graph, arcs[j])\n",
        "    self.t += 1\n",
        "    self.f[i-1] = self.t\n",
        "\n",
        "  def exploration_grid(self, graph):\n",
        "    return [0] * graph.len()\n",
        "\n",
        "  def leader_set(self, graph):\n",
        "    return [0]* graph.len()\n",
        "  \n",
        "  def leader_remap(self):\n",
        "    leader = []\n",
        "    for i in range(0, len(self.leader)):\n",
        "      leader.append(self.map.index(self.leader[i]) + 1 )\n",
        "    return leader"
      ],
      "metadata": {
        "id": "baeEIAARHDEI"
      },
      "execution_count": null,
      "outputs": []
    },
    {
      "cell_type": "code",
      "source": [
        "graph = Graph()\n",
        "graph.graph = {\"1\": [7], \"2\" : [10], \"3\" : [8] , \"4\": [1], \"5\" : [2], \"6\" : [9], \"7\" : [4], \"8\" : [6], \"9\" : [3 ,7], \"10\" : [5, 6]}"
      ],
      "metadata": {
        "id": "SH1GvvWyyMQ9"
      },
      "execution_count": null,
      "outputs": []
    },
    {
      "cell_type": "code",
      "source": [
        "scc = SCC_len_finder(graph)"
      ],
      "metadata": {
        "id": "Icenhu5WtKv7"
      },
      "execution_count": null,
      "outputs": []
    },
    {
      "cell_type": "code",
      "source": [
        "scc.SCC()"
      ],
      "metadata": {
        "id": "B95Y0W1TzNzq"
      },
      "execution_count": null,
      "outputs": []
    },
    {
      "cell_type": "code",
      "source": [
        "scc.leader_remap()"
      ],
      "metadata": {
        "colab": {
          "base_uri": "https://localhost:8080/"
        },
        "id": "k9ZKcgzjPVSH",
        "outputId": "bce9f147-b977-4db1-ad23-832d80342d09"
      },
      "execution_count": null,
      "outputs": [
        {
          "output_type": "execute_result",
          "data": {
            "text/plain": [
              "[10, 10, 10, 9, 9, 9, 9, 7, 7, 7]"
            ]
          },
          "metadata": {},
          "execution_count": 25
        }
      ]
    },
    {
      "cell_type": "code",
      "source": [
        "scc.leader"
      ],
      "metadata": {
        "colab": {
          "base_uri": "https://localhost:8080/"
        },
        "id": "f61XB_KS8tKz",
        "outputId": "d8520433-ff2d-4f77-de20-32132f7dbf73"
      },
      "execution_count": null,
      "outputs": [
        {
          "output_type": "execute_result",
          "data": {
            "text/plain": [
              "[3, 3, 3, 7, 7, 7, 7, 10, 10, 10]"
            ]
          },
          "metadata": {},
          "execution_count": 26
        }
      ]
    },
    {
      "cell_type": "markdown",
      "source": [
        "This approach works, but for huge graphs it takes a long time to execute."
      ],
      "metadata": {
        "id": "aELO5oUbQkSi"
      }
    }
  ]
}
