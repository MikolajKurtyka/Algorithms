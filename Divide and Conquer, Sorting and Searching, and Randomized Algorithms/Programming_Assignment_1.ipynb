{
  "nbformat": 4,
  "nbformat_minor": 0,
  "metadata": {
    "colab": {
      "name": "Programming Assignment #1.ipynb",
      "provenance": [],
      "authorship_tag": "ABX9TyN5YihL9+uDwzd/3JLWrOd4",
      "include_colab_link": true
    },
    "kernelspec": {
      "name": "python3",
      "display_name": "Python 3"
    },
    "language_info": {
      "name": "python"
    }
  },
  "cells": [
    {
      "cell_type": "markdown",
      "metadata": {
        "id": "view-in-github",
        "colab_type": "text"
      },
      "source": [
        "<a href=\"https://colab.research.google.com/github/MikolajMichaluk/Algorithms/blob/main/Programming_Assignment_1.ipynb\" target=\"_parent\"><img src=\"https://colab.research.google.com/assets/colab-badge.svg\" alt=\"Open In Colab\"/></a>"
      ]
    },
    {
      "cell_type": "markdown",
      "source": [
        "Question 1\n",
        "In this programming assignment you will implement one or more of the integer multiplication algorithms described in lecture.\n",
        "\n",
        "To get the most out of this assignment, your program should restrict itself to multiplying only pairs of single-digit numbers.  You can implement the grade-school algorithm if you want, but to get the most out of the assignment you'll want to implement recursive integer multiplication and/or Karatsuba's algorithm.\n",
        "\n",
        "So: what's the product of the following two 64-digit numbers?\n",
        "\n",
        "3141592653589793238462643383279502884197169399375105820974944592\n",
        "\n",
        "2718281828459045235360287471352662497757247093699959574966967627\n",
        "\n",
        "[TIP: before submitting, first test the correctness of your program on some small test cases of your own devising. Then post your best test cases to the discussion forums to help your fellow students!]\n",
        "\n",
        "[Food for thought: the number of digits in each input number is a power of 2.  Does this make your life easier?  Does it depend on which algorithm you're implementing?]\n",
        "\n",
        "The numeric answer should be typed in the space below.  So if your answer is 1198233847, then just type 1198233847 in the space provided without any space / commas / any other punctuation marks. \n",
        "\n",
        "(We do not require you to submit your code, so feel free to use any programming language you want --- just type the final numeric answer in the following space.)"
      ],
      "metadata": {
        "id": "CuFPaKYyPO_D"
      }
    },
    {
      "cell_type": "code",
      "execution_count": 235,
      "metadata": {
        "id": "mIBhx3wePJEq"
      },
      "outputs": [],
      "source": [
        "x = 3141592653589793238462643383279502884197169399375105820974944592\n",
        "y = 2718281828459045235360287471352662497757247093699959574966967627"
      ]
    },
    {
      "cell_type": "code",
      "source": [
        "%time\n",
        "z = x*y"
      ],
      "metadata": {
        "colab": {
          "base_uri": "https://localhost:8080/"
        },
        "id": "5P3fPY1ZPebD",
        "outputId": "6493e298-68b9-4e17-b4f4-5000082f1067"
      },
      "execution_count": 236,
      "outputs": [
        {
          "output_type": "stream",
          "name": "stdout",
          "text": [
            "CPU times: user 4 µs, sys: 0 ns, total: 4 µs\n",
            "Wall time: 8.34 µs\n"
          ]
        }
      ]
    },
    {
      "cell_type": "markdown",
      "source": [
        "function karatsuba (num1, num2)\n",
        "\n",
        "    if (num1 < 10) or (num2 < 10)\n",
        "        return num1 × num2 /* fall back to traditional multiplication */\n",
        "    \n",
        "    /* Calculates the size of the numbers. */\n",
        "    m = min (size_base10(num1), size_base10(num2))\n",
        "    m2 = floor (m / 2) \n",
        "    /* m2 = ceil (m / 2) will also work */\n",
        "    \n",
        "    /* Split the digit sequences in the middle. */\n",
        "    high1, low1 = split_at (num1, m2)\n",
        "    high2, low2 = split_at (num2, m2)\n",
        "    \n",
        "    /* 3 recursive calls made to numbers approximately half the size. */\n",
        "    z0 = karatsuba (low1, low2)\n",
        "    z1 = karatsuba (low1 + high1, low2 + high2)\n",
        "    z2 = karatsuba (high1, high2)\n",
        "    \n",
        "    return (z2 × 10 ^ (m2 × 2)) + ((z1 - z2 - z0) × 10 ^ m2) + z0"
      ],
      "metadata": {
        "id": "uiztHoPZQyDz"
      }
    },
    {
      "cell_type": "code",
      "source": [
        "def Karatsuba_algorithm(x: int, y: int) -> int:\n",
        "  if (x < 10) or (y < 10):\n",
        "    return x*y\n",
        "  \n",
        "  len_x = len(str(x))\n",
        "  len_y = len(str(y))\n",
        "\n",
        "  #print(f\"len {len_x} {len_y}\")\n",
        "\n",
        "  m2 = int(max(len_x, len_y)/2)\n",
        "  #print(m2)\n",
        "\n",
        "  a, b = divmod(x, 10**m2)\n",
        "  c, d = divmod(y, 10**m2)\n",
        "\n",
        "  ac = Karatsuba_algorithm(a, c)\n",
        "  bd = Karatsuba_algorithm(b, d)\n",
        "  ad_cb = Karatsuba_algorithm(a + b, c + d) - ac - bd\n",
        "\n",
        "  return ( ac * 10**(m2*2) ) + ( ad_cb * 10**(m2) ) + bd"
      ],
      "metadata": {
        "id": "A5_JmZEaPslC"
      },
      "execution_count": 237,
      "outputs": []
    },
    {
      "cell_type": "code",
      "source": [
        "%time\n",
        "val_Kar = Karatsuba_algorithm(x, y)"
      ],
      "metadata": {
        "colab": {
          "base_uri": "https://localhost:8080/"
        },
        "id": "bAUZ2rwGUQ4X",
        "outputId": "3ff80047-6d6e-4db9-8a82-4afc9d79f6c0"
      },
      "execution_count": 238,
      "outputs": [
        {
          "output_type": "stream",
          "name": "stdout",
          "text": [
            "CPU times: user 3 µs, sys: 0 ns, total: 3 µs\n",
            "Wall time: 7.39 µs\n"
          ]
        }
      ]
    },
    {
      "cell_type": "code",
      "source": [
        "if z == val_Kar:\n",
        "  print(z)"
      ],
      "metadata": {
        "colab": {
          "base_uri": "https://localhost:8080/"
        },
        "id": "YvSUJLO4Yytc",
        "outputId": "b37329b5-2c55-46c7-a9e8-a4a03fe853e7"
      },
      "execution_count": 239,
      "outputs": [
        {
          "output_type": "stream",
          "name": "stdout",
          "text": [
            "8539734222673567065463550869546574495034888535765114961879601127067743044893204848617875072216249073013374895871952806582723184\n"
          ]
        }
      ]
    },
    {
      "cell_type": "code",
      "source": [
        ""
      ],
      "metadata": {
        "id": "3rMs7Ga-sRB3"
      },
      "execution_count": null,
      "outputs": []
    }
  ]
}
